{
 "cells": [
  {
   "cell_type": "code",
   "execution_count": 1,
   "metadata": {},
   "outputs": [],
   "source": [
    "from PIL import Image\n",
    "import os"
   ]
  },
  {
   "cell_type": "code",
   "execution_count": 100,
   "metadata": {},
   "outputs": [],
   "source": [
    "image_folder=\"/Users/daelsaid/scratch/maps/highpass_filtered/speaker_precedes_listener/asd/sag\"\n",
    "output_gif=\"/Users/daelsaid/scratch/maps/highpass_filtered/ASD_hpf_speaker_precedes_listener_alltime_lags_saggital.gif\""
   ]
  },
  {
   "cell_type": "code",
   "execution_count": 101,
   "metadata": {},
   "outputs": [
    {
     "name": "stdout",
     "output_type": "stream",
     "text": [
      "['/Users/daelsaid/scratch/maps/highpass_filtered/speaker_precedes_listener/asd/sag/sag000.png', '/Users/daelsaid/scratch/maps/highpass_filtered/speaker_precedes_listener/asd/sag/sag004.png', '/Users/daelsaid/scratch/maps/highpass_filtered/speaker_precedes_listener/asd/sag/sag008.png', '/Users/daelsaid/scratch/maps/highpass_filtered/speaker_precedes_listener/asd/sag/sag012.png', '/Users/daelsaid/scratch/maps/highpass_filtered/speaker_precedes_listener/asd/sag/sag016.png', '/Users/daelsaid/scratch/maps/highpass_filtered/speaker_precedes_listener/asd/sag/sag020.png', '/Users/daelsaid/scratch/maps/highpass_filtered/speaker_precedes_listener/asd/sag/sag024.png', '/Users/daelsaid/scratch/maps/highpass_filtered/speaker_precedes_listener/asd/sag/sag028.png', '/Users/daelsaid/scratch/maps/highpass_filtered/speaker_precedes_listener/asd/sag/sag032.png', '/Users/daelsaid/scratch/maps/highpass_filtered/speaker_precedes_listener/asd/sag/sag036.png', '/Users/daelsaid/scratch/maps/highpass_filtered/speaker_precedes_listener/asd/sag/sag040.png', '/Users/daelsaid/scratch/maps/highpass_filtered/speaker_precedes_listener/asd/sag/sag044.png', '/Users/daelsaid/scratch/maps/highpass_filtered/speaker_precedes_listener/asd/sag/sag048.png', '/Users/daelsaid/scratch/maps/highpass_filtered/speaker_precedes_listener/asd/sag/sag052.png', '/Users/daelsaid/scratch/maps/highpass_filtered/speaker_precedes_listener/asd/sag/sag056.png', '/Users/daelsaid/scratch/maps/highpass_filtered/speaker_precedes_listener/asd/sag/sag060.png', '/Users/daelsaid/scratch/maps/highpass_filtered/speaker_precedes_listener/asd/sag/sag064.png', '/Users/daelsaid/scratch/maps/highpass_filtered/speaker_precedes_listener/asd/sag/sag068.png', '/Users/daelsaid/scratch/maps/highpass_filtered/speaker_precedes_listener/asd/sag/sag072.png', '/Users/daelsaid/scratch/maps/highpass_filtered/speaker_precedes_listener/asd/sag/sag076.png', '/Users/daelsaid/scratch/maps/highpass_filtered/speaker_precedes_listener/asd/sag/sag080.png', '/Users/daelsaid/scratch/maps/highpass_filtered/speaker_precedes_listener/asd/sag/sag084.png', '/Users/daelsaid/scratch/maps/highpass_filtered/speaker_precedes_listener/asd/sag/sag088.png']\n",
      "GIF saved at /Users/daelsaid/scratch/maps/highpass_filtered/ASD_hpf_speaker_precedes_listener_alltime_lags_saggital.gif\n"
     ]
    }
   ],
   "source": [
    "def create_gif(image_folder, output_gif, duration=2000):\n",
    "    \"\"\"\n",
    "    Create a GIF from a series of .png images.\n",
    "\n",
    "    Args:\n",
    "        image_folder (str): Path to the folder containing .png images.\n",
    "        output_gif (str): Path to save the output .gif file.\n",
    "        duration (int): Duration between frames in milliseconds.\n",
    "    \"\"\"\n",
    "    # Get all .png files in the folder and sort them\n",
    "    images = sorted([os.path.join(image_folder, file) for file in os.listdir(image_folder) if file.endswith(\".png\")])\n",
    "    print(images)\n",
    "    # Open images and store them in a list\n",
    "    frames = [Image.open(image) for image in images]\n",
    "\n",
    "    # Save as GIF\n",
    "    frames[0].save(\n",
    "        output_gif,\n",
    "        format=\"GIF\",\n",
    "        append_images=frames[1:],\n",
    "        save_all=True,\n",
    "        duration=duration,\n",
    "        loop=0  # Loop 0 means infinite loop\n",
    "    )\n",
    "    print(f\"GIF saved at {output_gif}\")\n",
    "\n",
    "# Example Usage\n",
    "create_gif(image_folder, output_gif, duration=2000)  # Adjust duration as needed\n"
   ]
  },
  {
   "cell_type": "code",
   "execution_count": null,
   "metadata": {},
   "outputs": [],
   "source": []
  }
 ],
 "metadata": {
  "kernelspec": {
   "display_name": "base",
   "language": "python",
   "name": "python3"
  },
  "language_info": {
   "codemirror_mode": {
    "name": "ipython",
    "version": 3
   },
   "file_extension": ".py",
   "mimetype": "text/x-python",
   "name": "python",
   "nbconvert_exporter": "python",
   "pygments_lexer": "ipython3",
   "version": "3.8.11"
  }
 },
 "nbformat": 4,
 "nbformat_minor": 2
}
